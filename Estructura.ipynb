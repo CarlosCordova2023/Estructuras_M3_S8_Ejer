{
  "nbformat": 4,
  "nbformat_minor": 0,
  "metadata": {
    "colab": {
      "provenance": [],
      "authorship_tag": "ABX9TyNMIdscAjmJK2NhjHwRCkLR",
      "include_colab_link": true
    },
    "kernelspec": {
      "name": "python3",
      "display_name": "Python 3"
    },
    "language_info": {
      "name": "python"
    }
  },
  "cells": [
    {
      "cell_type": "markdown",
      "metadata": {
        "id": "view-in-github",
        "colab_type": "text"
      },
      "source": [
        "<a href=\"https://colab.research.google.com/github/CarlosCordova2023/Estructuras_M3_S8_Ejer/blob/main/Estructura.ipynb\" target=\"_parent\"><img src=\"https://colab.research.google.com/assets/colab-badge.svg\" alt=\"Open In Colab\"/></a>"
      ]
    },
    {
      "cell_type": "code",
      "execution_count": 1,
      "metadata": {
        "colab": {
          "base_uri": "https://localhost:8080/"
        },
        "id": "XBi7Hqhqh7s5",
        "outputId": "c209ae5c-8f5d-4de1-9412-8f3d4f849595"
      },
      "outputs": [
        {
          "output_type": "stream",
          "name": "stdout",
          "text": [
            "Lista sin duplicados y ordenada: [5, 15, 18, 20, 25, 50]\n"
          ]
        }
      ],
      "source": [
        "\n",
        "mi_lista = [5, 20, 15, 20, 25, 50, 20, 5, 18, 15]\n",
        "\n",
        "mi_lista_sin_duplicados = list(dict.fromkeys(mi_lista))\n",
        "\n",
        "\n",
        "mi_lista_sin_duplicados.sort()\n",
        "\n",
        "# Imprimir la lista resultante\n",
        "print(\"Lista sin duplicados y ordenada:\", mi_lista_sin_duplicados)\n"
      ]
    }
  ]
}